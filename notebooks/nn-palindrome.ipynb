{
 "cells": [
  {
   "cell_type": "code",
   "execution_count": 1,
   "metadata": {},
   "outputs": [],
   "source": [
    "import torch\n",
    "import string\n",
    "import pandas as pd\n",
    "import numpy as np\n",
    "import torch.nn as nn\n",
    "import torch.optim as optim\n",
    "import torch.nn.functional as F\n",
    "import matplotlib.pyplot as plt\n",
    "from torch.utils.data import DataLoader, Dataset\n",
    "from torch.autograd import Variable\n",
    "from torch.utils.data import DataLoader, TensorDataset\n",
    "from sklearn.model_selection import train_test_split\n",
    "device = torch.device(\"cuda\" if torch.cuda.is_available() else \"cpu\")\n",
    "RANDOM_SEED = 1"
   ]
  },
  {
   "cell_type": "markdown",
   "metadata": {},
   "source": [
    "### Create Palindrome Dataset"
   ]
  },
  {
   "cell_type": "code",
   "execution_count": 2,
   "metadata": {},
   "outputs": [],
   "source": [
    "def generate_random_string(length):\n",
    "    return ''.join(np.random.choice(list('abcdefghijklmnopqrstuvwxyz'), length))\n",
    "\n",
    "\n",
    "def generate_palindrome(length):\n",
    "    half_length = length // 2\n",
    "    half_string = generate_random_string(half_length)\n",
    "    if length % 2 == 0:\n",
    "        return half_string + half_string[::-1]\n",
    "    else:\n",
    "        return half_string + np.random.choice(list('abcdefghijklmnopqrstuvwxyz')) + half_string[::-1]\n",
    "    \n",
    "\n",
    "def generate_dataset(num_samples, string_lengths):\n",
    "    data = []\n",
    "    num_samples_per_length = num_samples // len(string_lengths)\n",
    "    for length in string_lengths:\n",
    "        for _ in range(num_samples_per_length):\n",
    "            if np.random.rand() > 0.5:\n",
    "                string = generate_random_string(length)\n",
    "                label = 1\n",
    "            else:\n",
    "                string = generate_palindrome(length)\n",
    "                label = 0\n",
    "            data.append([string, label])\n",
    "    return data\n"
   ]
  },
  {
   "cell_type": "markdown",
   "metadata": {},
   "source": [
    "### Create Manual Palindrome Model"
   ]
  },
  {
   "cell_type": "code",
   "execution_count": 3,
   "metadata": {},
   "outputs": [
    {
     "name": "stdout",
     "output_type": "stream",
     "text": [
      "Output for 'aba':  0.0\n",
      "Output for 'abb':  2.0\n",
      "Output for 'cba':  2.0\n",
      "Output for 'racecar':  0.0\n",
      "Output for 'saippuakivikauppias':  0.0\n"
     ]
    }
   ],
   "source": [
    "class CustomTokenizer:\n",
    "    def __init__(self):\n",
    "        # Define the special tokens\n",
    "        self.tokens = list(string.ascii_lowercase)\n",
    "        self.token_to_id = {token: i for i, token in enumerate(self.tokens)}\n",
    "        self.id_to_token = {i: token for token, i in enumerate(self.tokens)}\n",
    "        self.vocab = set(self.tokens)\n",
    "        self.vocab_size = len(self.vocab)\n",
    "        self.max_word_length = 200\n",
    "    \n",
    "    def to_matrix(self, word):\n",
    "        rows = len(word)\n",
    "        cols = len(self.vocab)\n",
    "        matrix = torch.zeros((rows, cols), dtype=torch.float32)\n",
    "        for i, char in enumerate(word):\n",
    "            matrix[i, self.token_to_id[char]] = 1.0\n",
    "        return matrix\n",
    "    \n",
    "class PalindromeNetwork(nn.Module):\n",
    "    def __init__(self):\n",
    "        super(PalindromeNetwork, self).__init__()\n",
    "        self.tokenizer = CustomTokenizer() \n",
    "        self.IPrime = torch.flip(torch.eye(self.tokenizer.max_word_length), [0])\n",
    "        \n",
    "\n",
    "    def forward(self, x):\n",
    "        word_len = len(x)\n",
    "        P = self.tokenizer.to_matrix(x)\n",
    "        d = torch.norm(P - self.IPrime[-1*word_len:, :word_len].matmul(P), p=\"fro\")\n",
    "        return d\n",
    "    \n",
    "net = PalindromeNetwork()\n",
    "\n",
    "print(\"Output for 'aba': \", net(\"aba\").item())\n",
    "print(\"Output for 'abb': \", net(\"abb\").item())\n",
    "print(\"Output for 'cba': \", net(\"cba\").item())\n",
    "print(\"Output for 'racecar': \", net(\"racecar\").item())\n",
    "print(\"Output for 'saippuakivikauppias': \", net(\"saippuakivikauppias\").item())\n"
   ]
  },
  {
   "cell_type": "markdown",
   "metadata": {},
   "source": [
    "### Expirement 1: Learning the Reverse Identity Matrix"
   ]
  },
  {
   "cell_type": "code",
   "execution_count": 4,
   "metadata": {},
   "outputs": [
    {
     "name": "stderr",
     "output_type": "stream",
     "text": [
      "/opt/anaconda3/lib/python3.11/site-packages/torch/nn/modules/loss.py:535: UserWarning: Using a target size (torch.Size([1])) that is different to the input size (torch.Size([])). This will likely lead to incorrect results due to broadcasting. Please ensure they have the same size.\n",
      "  return F.mse_loss(input, target, reduction=self.reduction)\n"
     ]
    },
    {
     "name": "stdout",
     "output_type": "stream",
     "text": [
      "Epoch [1/7], Loss: 0.0275\n",
      "Epoch [2/7], Loss: 0.0088\n",
      "Epoch [3/7], Loss: 0.0087\n",
      "Epoch [4/7], Loss: 0.0087\n",
      "Epoch [5/7], Loss: 0.0087\n",
      "Epoch [6/7], Loss: 0.0086\n",
      "Epoch [7/7], Loss: 0.0086\n"
     ]
    }
   ],
   "source": [
    "class CustomTokenizer:\n",
    "    def __init__(self):\n",
    "        # Define the special tokens\n",
    "        self.tokens = list(string.ascii_lowercase)\n",
    "        self.token_to_id = {token: i for i, token in enumerate(self.tokens)}\n",
    "        self.id_to_token = {i: token for token, i in enumerate(self.tokens)}\n",
    "        self.vocab = set(self.tokens)\n",
    "        self.vocab_size = len(self.vocab)\n",
    "        self.max_word_length = 7\n",
    "    \n",
    "    def to_matrix(self, word):\n",
    "        rows = len(word)\n",
    "        cols = len(self.vocab)\n",
    "        matrix = torch.zeros((rows, cols), dtype=torch.float32)\n",
    "        for i, char in enumerate(word):\n",
    "            matrix[i, self.token_to_id[char]] = 1.0\n",
    "        return matrix\n",
    "    \n",
    "class PalindromeNetwork(nn.Module):\n",
    "    def __init__(self):\n",
    "        super(PalindromeNetwork, self).__init__()\n",
    "        self.tokenizer = CustomTokenizer() \n",
    "        self.IPrime = nn.Parameter(torch.zeros(self.tokenizer.max_word_length,self.tokenizer.max_word_length))\n",
    "\n",
    "    def forward(self, P):\n",
    "        word_len = P.shape[0]\n",
    "        d = torch.norm(P - self.IPrime[-1*word_len:, :word_len].matmul(P), p=\"fro\")\n",
    "        d = nn.functional.tanh(d)\n",
    "        return d\n",
    "\n",
    "dataset = generate_dataset(10000, [3,4,5])\n",
    "tokenizer = CustomTokenizer()\n",
    "X = []\n",
    "for row in dataset:\n",
    "    X.append([tokenizer.to_matrix(row[0]), row[1]])\n",
    "\n",
    "\n",
    "# Training loop\n",
    "model = PalindromeNetwork()\n",
    "criterion = nn.MSELoss()\n",
    "optimizer = optim.SGD(model.parameters(), lr=0.01)\n",
    "num_epochs = 7\n",
    "for epoch in range(num_epochs):\n",
    "    total_loss = 0\n",
    "    for data in X:\n",
    "        inputs, label = data\n",
    "        label = torch.tensor([label], dtype=torch.float32)\n",
    "        \n",
    "        # Zero the parameter gradients\n",
    "        optimizer.zero_grad()\n",
    "        \n",
    "        # Forward pass\n",
    "        outputs = model(inputs)\n",
    "        \n",
    "        loss = criterion(outputs, label)\n",
    "        loss.backward()\n",
    "        optimizer.step()\n",
    "        \n",
    "        total_loss += loss.item()\n",
    "    \n",
    "    print(f'Epoch [{epoch+1}/{num_epochs}], Loss: {total_loss/len(X):.4f}')\n"
   ]
  },
  {
   "cell_type": "code",
   "execution_count": 5,
   "metadata": {},
   "outputs": [
    {
     "name": "stdout",
     "output_type": "stream",
     "text": [
      "[[ 0.    0.    0.    0.    0.    0.    0.  ]\n",
      " [ 0.    0.    0.    0.    0.    0.    0.  ]\n",
      " [ 0.46 -0.   -0.    0.    0.54  0.    0.  ]\n",
      " [ 0.15  0.08  0.    0.92 -0.15  0.    0.  ]\n",
      " [-0.03 -0.03  1.    0.03  0.03  0.    0.  ]\n",
      " [ 0.02  1.02 -0.   -0.02 -0.02  0.    0.  ]\n",
      " [ 1.07  0.06  0.   -0.06 -0.07  0.    0.  ]]\n"
     ]
    },
    {
     "data": {
      "text/plain": [
       "<matplotlib.image.AxesImage at 0x313458110>"
      ]
     },
     "execution_count": 5,
     "metadata": {},
     "output_type": "execute_result"
    },
    {
     "data": {
      "image/png": "[encoded data removed]",
      "text/plain": [
       "<Figure size 640x480 with 1 Axes>"
      ]
     },
     "metadata": {},
     "output_type": "display_data"
    }
   ],
   "source": [
    "print(model.IPrime.detach().numpy().round(2))\n",
    "plt.imshow(model.IPrime.detach().numpy())"
   ]
  },
  {
   "cell_type": "code",
   "execution_count": 6,
   "metadata": {},
   "outputs": [
    {
     "name": "stdout",
     "output_type": "stream",
     "text": [
      "tensor(0.0002, grad_fn=<TanhBackward0>)\n",
      "tensor(0.8383, grad_fn=<TanhBackward0>)\n"
     ]
    }
   ],
   "source": [
    "print(model(tokenizer.to_matrix(\"abbba\")))\n",
    "print(model(tokenizer.to_matrix(\"abbbba\")))"
   ]
  },
  {
   "cell_type": "markdown",
   "metadata": {},
   "source": [
    "### Expirement 2: Replacing the Subtraction & Norm\n"
   ]
  },
  {
   "cell_type": "code",
   "execution_count": 7,
   "metadata": {},
   "outputs": [
    {
     "name": "stdout",
     "output_type": "stream",
     "text": [
      "Epoch [1/40], Train Loss: 0.5348, Test Loss: 0.1558\n",
      "Epoch [2/40], Train Loss: 0.1009, Test Loss: 0.0710\n",
      "Epoch [3/40], Train Loss: 0.0755, Test Loss: 0.0615\n",
      "Epoch [4/40], Train Loss: 0.0692, Test Loss: 0.0571\n",
      "Epoch [5/40], Train Loss: 0.0651, Test Loss: 0.0555\n",
      "Epoch [6/40], Train Loss: 0.0621, Test Loss: 0.0546\n",
      "Epoch [7/40], Train Loss: 0.0598, Test Loss: 0.0547\n",
      "Epoch [8/40], Train Loss: 0.0580, Test Loss: 0.0550\n",
      "Epoch [9/40], Train Loss: 0.0568, Test Loss: 0.0552\n",
      "Epoch [10/40], Train Loss: 0.0555, Test Loss: 0.0548\n",
      "Epoch [11/40], Train Loss: 0.0545, Test Loss: 0.0553\n",
      "Epoch [12/40], Train Loss: 0.0537, Test Loss: 0.0552\n",
      "Epoch [13/40], Train Loss: 0.0528, Test Loss: 0.0552\n",
      "Epoch [14/40], Train Loss: 0.0520, Test Loss: 0.0554\n",
      "Epoch [15/40], Train Loss: 0.0513, Test Loss: 0.0552\n",
      "Epoch [16/40], Train Loss: 0.0507, Test Loss: 0.0550\n",
      "Epoch [17/40], Train Loss: 0.0502, Test Loss: 0.0547\n",
      "Epoch [18/40], Train Loss: 0.0497, Test Loss: 0.0541\n",
      "Epoch [19/40], Train Loss: 0.0493, Test Loss: 0.0539\n",
      "Epoch [20/40], Train Loss: 0.0489, Test Loss: 0.0533\n",
      "Epoch [21/40], Train Loss: 0.0485, Test Loss: 0.0531\n",
      "Epoch [22/40], Train Loss: 0.0481, Test Loss: 0.0529\n",
      "Epoch [23/40], Train Loss: 0.0478, Test Loss: 0.0526\n",
      "Epoch [24/40], Train Loss: 0.0474, Test Loss: 0.0524\n",
      "Epoch [25/40], Train Loss: 0.0471, Test Loss: 0.0524\n",
      "Epoch [26/40], Train Loss: 0.0468, Test Loss: 0.0523\n",
      "Epoch [27/40], Train Loss: 0.0465, Test Loss: 0.0523\n",
      "Epoch [28/40], Train Loss: 0.0462, Test Loss: 0.0525\n",
      "Epoch [29/40], Train Loss: 0.0460, Test Loss: 0.0526\n",
      "Epoch [30/40], Train Loss: 0.0456, Test Loss: 0.0527\n",
      "Epoch [31/40], Train Loss: 0.0453, Test Loss: 0.0529\n",
      "Epoch [32/40], Train Loss: 0.0450, Test Loss: 0.0532\n",
      "Epoch [33/40], Train Loss: 0.0448, Test Loss: 0.0537\n",
      "Epoch [34/40], Train Loss: 0.0445, Test Loss: 0.0542\n",
      "Epoch [35/40], Train Loss: 0.0443, Test Loss: 0.0545\n",
      "Epoch [36/40], Train Loss: 0.0441, Test Loss: 0.0550\n",
      "Epoch [37/40], Train Loss: 0.0438, Test Loss: 0.0557\n",
      "Epoch [38/40], Train Loss: 0.0436, Test Loss: 0.0555\n",
      "Epoch [39/40], Train Loss: 0.0434, Test Loss: 0.0563\n",
      "Epoch [40/40], Train Loss: 0.0432, Test Loss: 0.0562\n",
      "[[ 0.    0.    0.    0.    0.    0.    0.  ]\n",
      " [ 0.    0.    0.    0.    0.    0.    0.  ]\n",
      " [ 0.21  0.29  0.12 -0.13  1.26  0.    0.  ]\n",
      " [ 0.6   0.29 -0.08  1.43 -0.77  0.    0.  ]\n",
      " [ 0.26  0.58  1.4  -0.34 -0.63  0.    0.  ]\n",
      " [-0.65  1.08 -0.19  0.25  0.27  0.    0.  ]\n",
      " [ 1.65  0.26  0.51  0.26  0.69  0.    0.  ]]\n"
     ]
    }
   ],
   "source": [
    "class PalindromeNetwork2(nn.Module):\n",
    "    def __init__(self):\n",
    "        super(PalindromeNetwork2, self).__init__()\n",
    "        self.tokenizer = CustomTokenizer() \n",
    "        self.IPrime = nn.Parameter(torch.zeros(self.tokenizer.max_word_length,self.tokenizer.max_word_length))\n",
    "        self.fc2 = nn.Linear(26,26)\n",
    "        self.fc3 = nn.Linear(26,1)\n",
    "\n",
    "\n",
    "    def forward(self, P):\n",
    "        word_len = P.shape[0]\n",
    "        d = self.IPrime[-1*word_len:, :word_len].matmul(P)\n",
    "        out = P + d\n",
    "        out = self.fc2(out)\n",
    "        out = nn.functional.relu(out)\n",
    "        out = self.fc3(out)\n",
    "        out = torch.sum(out, dim=0)\n",
    "        out = nn.functional.sigmoid(out)\n",
    "        return out\n",
    "\n",
    "dataset = generate_dataset(10000, [3,4,5])\n",
    "tokenizer = CustomTokenizer()\n",
    "X = []\n",
    "for row in dataset:\n",
    "    X.append([tokenizer.to_matrix(row[0]), row[1]])\n",
    "\n",
    "\n",
    "# Split the dataset into training and test sets\n",
    "train_data, test_data = train_test_split(X, test_size=0.2, random_state=42)\n",
    "\n",
    "# Training loop\n",
    "model = PalindromeNetwork2()\n",
    "criterion = nn.BCELoss()\n",
    "optimizer = optim.SGD(model.parameters(), lr=0.01)\n",
    "num_epochs = 40\n",
    "\n",
    "for epoch in range(num_epochs):\n",
    "    model.train()\n",
    "    total_train_loss = 0\n",
    "    for data in train_data:\n",
    "        inputs, label = data\n",
    "        label = torch.tensor([label], dtype=torch.float32)\n",
    "        \n",
    "        # Zero the parameter gradients\n",
    "        optimizer.zero_grad()\n",
    "        \n",
    "        # Forward pass\n",
    "        outputs = model(inputs)\n",
    "        \n",
    "        loss = criterion(outputs, label)\n",
    "        loss.backward()\n",
    "        optimizer.step()\n",
    "        \n",
    "        total_train_loss += loss.item()\n",
    "    \n",
    "    model.eval()\n",
    "    total_test_loss = 0\n",
    "    with torch.no_grad():\n",
    "        for data in test_data:\n",
    "            inputs, label = data\n",
    "            label = torch.tensor([label], dtype=torch.float32)\n",
    "            \n",
    "            outputs = model(inputs)\n",
    "            loss = criterion(outputs, label)\n",
    "            total_test_loss += loss.item()\n",
    "    \n",
    "    print(f'Epoch [{epoch+1}/{num_epochs}], Train Loss: {total_train_loss/len(train_data):.4f}, Test Loss: {total_test_loss/len(test_data):.4f}')\n",
    "\n",
    "print(model.IPrime.detach().numpy().round(2))\n"
   ]
  },
  {
   "cell_type": "code",
   "execution_count": 8,
   "metadata": {},
   "outputs": [
    {
     "data": {
      "text/plain": [
       "<matplotlib.image.AxesImage at 0x313da73d0>"
      ]
     },
     "execution_count": 8,
     "metadata": {},
     "output_type": "execute_result"
    },
    {
     "data": {
      "image/png": "[encoded data removed]",
      "text/plain": [
       "<Figure size 640x480 with 1 Axes>"
      ]
     },
     "metadata": {},
     "output_type": "display_data"
    }
   ],
   "source": [
    "plt.imshow(model.IPrime.detach().numpy())"
   ]
  },
  {
   "cell_type": "markdown",
   "metadata": {},
   "source": [
    "### Example 3: Adding Regularization"
   ]
  },
  {
   "cell_type": "code",
   "execution_count": 9,
   "metadata": {},
   "outputs": [
    {
     "name": "stdout",
     "output_type": "stream",
     "text": [
      "Epoch [1/40], Train Loss: 0.7048, Test Loss: 0.6952\n",
      "Epoch [2/40], Train Loss: 0.4604, Test Loss: 0.1395\n",
      "Epoch [3/40], Train Loss: 0.0972, Test Loss: 0.0831\n",
      "Epoch [4/40], Train Loss: 0.0684, Test Loss: 0.0703\n",
      "Epoch [5/40], Train Loss: 0.0587, Test Loss: 0.0646\n",
      "Epoch [6/40], Train Loss: 0.0537, Test Loss: 0.0617\n",
      "Epoch [7/40], Train Loss: 0.0508, Test Loss: 0.0601\n",
      "Epoch [8/40], Train Loss: 0.0489, Test Loss: 0.0592\n",
      "Epoch [9/40], Train Loss: 0.0475, Test Loss: 0.0585\n",
      "Epoch [10/40], Train Loss: 0.0466, Test Loss: 0.0581\n",
      "Epoch [11/40], Train Loss: 0.0458, Test Loss: 0.0580\n",
      "Epoch [12/40], Train Loss: 0.0453, Test Loss: 0.0579\n",
      "Epoch [13/40], Train Loss: 0.0449, Test Loss: 0.0579\n",
      "Epoch [14/40], Train Loss: 0.0445, Test Loss: 0.0579\n",
      "Epoch [15/40], Train Loss: 0.0442, Test Loss: 0.0580\n",
      "Epoch [16/40], Train Loss: 0.0440, Test Loss: 0.0581\n",
      "Epoch [17/40], Train Loss: 0.0438, Test Loss: 0.0581\n",
      "Epoch [18/40], Train Loss: 0.0435, Test Loss: 0.0582\n",
      "Epoch [19/40], Train Loss: 0.0434, Test Loss: 0.0582\n",
      "Epoch [20/40], Train Loss: 0.0432, Test Loss: 0.0582\n",
      "Epoch [21/40], Train Loss: 0.0430, Test Loss: 0.0584\n",
      "Epoch [22/40], Train Loss: 0.0429, Test Loss: 0.0583\n",
      "Epoch [23/40], Train Loss: 0.0427, Test Loss: 0.0585\n",
      "Epoch [24/40], Train Loss: 0.0426, Test Loss: 0.0584\n",
      "Epoch [25/40], Train Loss: 0.0425, Test Loss: 0.0584\n",
      "Epoch [26/40], Train Loss: 0.0424, Test Loss: 0.0585\n",
      "Epoch [27/40], Train Loss: 0.0423, Test Loss: 0.0585\n",
      "Epoch [28/40], Train Loss: 0.0421, Test Loss: 0.0585\n",
      "Epoch [29/40], Train Loss: 0.0420, Test Loss: 0.0585\n",
      "Epoch [30/40], Train Loss: 0.0419, Test Loss: 0.0585\n",
      "Epoch [31/40], Train Loss: 0.0419, Test Loss: 0.0585\n",
      "Epoch [32/40], Train Loss: 0.0418, Test Loss: 0.0585\n",
      "Epoch [33/40], Train Loss: 0.0417, Test Loss: 0.0584\n",
      "Epoch [34/40], Train Loss: 0.0416, Test Loss: 0.0585\n",
      "Epoch [35/40], Train Loss: 0.0415, Test Loss: 0.0585\n",
      "Epoch [36/40], Train Loss: 0.0415, Test Loss: 0.0584\n",
      "Epoch [37/40], Train Loss: 0.0414, Test Loss: 0.0584\n",
      "Epoch [38/40], Train Loss: 0.0413, Test Loss: 0.0583\n",
      "Epoch [39/40], Train Loss: 0.0413, Test Loss: 0.0583\n",
      "Epoch [40/40], Train Loss: 0.0412, Test Loss: 0.0583\n",
      "[[ 0.    0.    0.    0.    0.    0.    0.  ]\n",
      " [ 0.    0.    0.    0.    0.    0.    0.  ]\n",
      " [ 0.01  0.01  0.02  0.01  1.02  0.    0.  ]\n",
      " [ 0.05  0.02  0.    1.07 -0.02  0.    0.  ]\n",
      " [-0.    0.05  1.02 -0.03  0.02  0.    0.  ]\n",
      " [ 0.01  0.97  0.06  0.01 -0.01  0.    0.  ]\n",
      " [ 1.04  0.01  0.01  0.07  0.04  0.    0.  ]]\n"
     ]
    }
   ],
   "source": [
    "class PalindromeNetwork3(nn.Module):\n",
    "    def __init__(self):\n",
    "        super(PalindromeNetwork3, self).__init__()\n",
    "        self.tokenizer = CustomTokenizer() \n",
    "        self.IPrime = nn.Parameter(torch.zeros(self.tokenizer.max_word_length,self.tokenizer.max_word_length))\n",
    "        self.fc2 = nn.Linear(26,26)\n",
    "        self.fc3 = nn.Linear(26,1)\n",
    "\n",
    "\n",
    "    def forward(self, P):\n",
    "        word_len = P.shape[0]\n",
    "        d = self.IPrime[-1*word_len:, :word_len].matmul(P)\n",
    "        out = P + d\n",
    "        out = self.fc2(out)\n",
    "        out = nn.functional.relu(out)\n",
    "        out = self.fc3(out)\n",
    "        out = torch.sum(out, dim=0)\n",
    "        out = nn.functional.sigmoid(out)\n",
    "        return out\n",
    "    \n",
    "dataset = generate_dataset(10000, [3,4,5])\n",
    "tokenizer = CustomTokenizer()\n",
    "X = []\n",
    "for row in dataset:\n",
    "    X.append([tokenizer.to_matrix(row[0]), row[1]])\n",
    "\n",
    "\n",
    "# Split the dataset into training and test sets\n",
    "train_data, test_data = train_test_split(X, test_size=0.2, random_state=42)\n",
    "\n",
    "# Training loop\n",
    "model = PalindromeNetwork3()\n",
    "criterion = nn.BCELoss()\n",
    "optimizer = optim.SGD(model.parameters(), lr=0.01)\n",
    "num_epochs = 40\n",
    "\n",
    "for epoch in range(num_epochs):\n",
    "    model.train()\n",
    "    total_train_loss = 0\n",
    "    for data in train_data:\n",
    "        inputs, label = data\n",
    "        label = torch.tensor([label], dtype=torch.float32)\n",
    "        \n",
    "        # Zero the parameter gradients\n",
    "        optimizer.zero_grad()\n",
    "        \n",
    "        # Forward pass\n",
    "        outputs = model(inputs)\n",
    "        \n",
    "        loss = criterion(outputs, label)\n",
    "\n",
    "        # Add regularization to encourage outputs closer to 0 or 1\n",
    "        regularization = 0.01 * torch.sum((model.IPrime * (1 - model.IPrime))**2)\n",
    "        loss += regularization\n",
    "        \n",
    "        loss.backward()\n",
    "        optimizer.step()\n",
    "        \n",
    "        total_train_loss += loss.item()\n",
    "    \n",
    "    model.eval()\n",
    "    total_test_loss = 0\n",
    "    with torch.no_grad():\n",
    "        for data in test_data:\n",
    "            inputs, label = data\n",
    "            label = torch.tensor([label], dtype=torch.float32)\n",
    "            \n",
    "            outputs = model(inputs)\n",
    "            loss = criterion(outputs, label)\n",
    "            total_test_loss += loss.item()\n",
    "    \n",
    "    print(f'Epoch [{epoch+1}/{num_epochs}], Train Loss: {total_train_loss/len(train_data):.4f}, Test Loss: {total_test_loss/len(test_data):.4f}')\n",
    "\n",
    "print(model.IPrime.detach().numpy().round(2))\n"
   ]
  },
  {
   "cell_type": "code",
   "execution_count": 10,
   "metadata": {},
   "outputs": [
    {
     "data": {
      "text/plain": [
       "<matplotlib.image.AxesImage at 0x316cc9c10>"
      ]
     },
     "execution_count": 10,
     "metadata": {},
     "output_type": "execute_result"
    },
    {
     "data": {
      "image/png": "[encoded data removed]",
      "text/plain": [
       "<Figure size 640x480 with 1 Axes>"
      ]
     },
     "metadata": {},
     "output_type": "display_data"
    }
   ],
   "source": [
    "plt.imshow(model.IPrime.detach().numpy())"
   ]
  },
  {
   "cell_type": "markdown",
   "metadata": {},
   "source": [
    "### Modifying the Network with Program Synthesis"
   ]
  },
  {
   "cell_type": "code",
   "execution_count": 15,
   "metadata": {},
   "outputs": [
    {
     "name": "stdout",
     "output_type": "stream",
     "text": [
      "Epoch [1/40], Train Loss: 0.5691, Test Loss: 0.1865\n",
      "Epoch [2/40], Train Loss: 0.1114, Test Loss: 0.0846\n",
      "Epoch [3/40], Train Loss: 0.0690, Test Loss: 0.0673\n",
      "Epoch [4/40], Train Loss: 0.0571, Test Loss: 0.0599\n",
      "Epoch [5/40], Train Loss: 0.0516, Test Loss: 0.0564\n",
      "Epoch [6/40], Train Loss: 0.0484, Test Loss: 0.0548\n",
      "Epoch [7/40], Train Loss: 0.0465, Test Loss: 0.0540\n",
      "Epoch [8/40], Train Loss: 0.0451, Test Loss: 0.0538\n",
      "Epoch [9/40], Train Loss: 0.0442, Test Loss: 0.0537\n",
      "Epoch [10/40], Train Loss: 0.0435, Test Loss: 0.0537\n",
      "Epoch [11/40], Train Loss: 0.0429, Test Loss: 0.0540\n",
      "Epoch [12/40], Train Loss: 0.0425, Test Loss: 0.0542\n",
      "Epoch [13/40], Train Loss: 0.0421, Test Loss: 0.0546\n",
      "Epoch [14/40], Train Loss: 0.0418, Test Loss: 0.0547\n",
      "Epoch [15/40], Train Loss: 0.0416, Test Loss: 0.0550\n",
      "Epoch [16/40], Train Loss: 0.0413, Test Loss: 0.0551\n",
      "Epoch [17/40], Train Loss: 0.0411, Test Loss: 0.0554\n",
      "Epoch [18/40], Train Loss: 0.0410, Test Loss: 0.0557\n",
      "Epoch [19/40], Train Loss: 0.0408, Test Loss: 0.0559\n",
      "Epoch [20/40], Train Loss: 0.0407, Test Loss: 0.0561\n",
      "Epoch [21/40], Train Loss: 0.0405, Test Loss: 0.0563\n",
      "Epoch [22/40], Train Loss: 0.0404, Test Loss: 0.0565\n",
      "Epoch [23/40], Train Loss: 0.0403, Test Loss: 0.0566\n",
      "Epoch [24/40], Train Loss: 0.0402, Test Loss: 0.0568\n",
      "Epoch [25/40], Train Loss: 0.0401, Test Loss: 0.0569\n",
      "Epoch [26/40], Train Loss: 0.0400, Test Loss: 0.0570\n",
      "Epoch [27/40], Train Loss: 0.0399, Test Loss: 0.0571\n",
      "Epoch [28/40], Train Loss: 0.0398, Test Loss: 0.0572\n",
      "Epoch [29/40], Train Loss: 0.0397, Test Loss: 0.0573\n",
      "Epoch [30/40], Train Loss: 0.0397, Test Loss: 0.0574\n",
      "Epoch [31/40], Train Loss: 0.0396, Test Loss: 0.0575\n",
      "Epoch [32/40], Train Loss: 0.0395, Test Loss: 0.0576\n",
      "Epoch [33/40], Train Loss: 0.0394, Test Loss: 0.0577\n",
      "Epoch [34/40], Train Loss: 0.0393, Test Loss: 0.0578\n",
      "Epoch [35/40], Train Loss: 0.0393, Test Loss: 0.0578\n",
      "Epoch [36/40], Train Loss: 0.0392, Test Loss: 0.0578\n",
      "Epoch [37/40], Train Loss: 0.0391, Test Loss: 0.0579\n",
      "Epoch [38/40], Train Loss: 0.0391, Test Loss: 0.0579\n",
      "Epoch [39/40], Train Loss: 0.0390, Test Loss: 0.0580\n",
      "Epoch [40/40], Train Loss: 0.0390, Test Loss: 0.0580\n"
     ]
    }
   ],
   "source": [
    "class PalindromeNetwork4(nn.Module):\n",
    "    def __init__(self):\n",
    "        super(PalindromeNetwork4, self).__init__()\n",
    "        self.tokenizer = CustomTokenizer() \n",
    "        self.IPrime = nn.Parameter(torch.zeros(self.tokenizer.max_word_length,self.tokenizer.max_word_length))\n",
    "        self.fc2 = nn.Linear(26,26)\n",
    "        self.fc3 = nn.Linear(26,1)\n",
    "\n",
    "\n",
    "    def forward(self, P):\n",
    "        word_len = P.shape[0]\n",
    "        d = self.IPrime[-1*word_len:, :word_len].matmul(P)\n",
    "        out = P + d\n",
    "        out = self.fc2(out)\n",
    "        out = nn.functional.relu(out)\n",
    "        out = self.fc3(out)\n",
    "        out = torch.sum(out, dim=0)\n",
    "        out = nn.functional.sigmoid(out)\n",
    "        return out\n",
    "    \n",
    "dataset = generate_dataset(10000, [3,4,5])\n",
    "tokenizer = CustomTokenizer()\n",
    "X = []\n",
    "for row in dataset:\n",
    "    X.append([tokenizer.to_matrix(row[0]), row[1]])\n",
    "\n",
    "\n",
    "# Split the dataset into training and test sets\n",
    "train_data, test_data = train_test_split(X, test_size=0.2, random_state=42)\n",
    "\n",
    "# Training loop\n",
    "model = PalindromeNetwork4()\n",
    "criterion = nn.BCELoss()\n",
    "optimizer = optim.SGD(model.parameters(), lr=0.01)\n",
    "num_epochs = 40\n",
    "\n",
    "for epoch in range(num_epochs):\n",
    "    model.train()\n",
    "    total_train_loss = 0\n",
    "    for data in train_data:\n",
    "        inputs, label = data\n",
    "        label = torch.tensor([label], dtype=torch.float32)\n",
    "        \n",
    "        # Zero the parameter gradients\n",
    "        optimizer.zero_grad()\n",
    "        \n",
    "        # Forward pass\n",
    "        outputs = model(inputs)\n",
    "        \n",
    "        loss = criterion(outputs, label)\n",
    "\n",
    "        # Add regularization to encourage outputs closer to 0 or 1\n",
    "        regularization = 0.01 * torch.sum((model.IPrime * (1 - model.IPrime))**2)\n",
    "        loss += regularization\n",
    "        \n",
    "        loss.backward()\n",
    "        optimizer.step()\n",
    "        \n",
    "        total_train_loss += loss.item()\n",
    "    \n",
    "    model.eval()\n",
    "    total_test_loss = 0\n",
    "    with torch.no_grad():\n",
    "        for data in test_data:\n",
    "            inputs, label = data\n",
    "            label = torch.tensor([label], dtype=torch.float32)\n",
    "            \n",
    "            outputs = model(inputs)\n",
    "            loss = criterion(outputs, label)\n",
    "            total_test_loss += loss.item()\n",
    "    \n",
    "    print(f'Epoch [{epoch+1}/{num_epochs}], Train Loss: {total_train_loss/len(train_data):.4f}, Test Loss: {total_test_loss/len(test_data):.4f}')\n"
   ]
  },
  {
   "cell_type": "code",
   "execution_count": 27,
   "metadata": {},
   "outputs": [
    {
     "name": "stdout",
     "output_type": "stream",
     "text": [
      "Found condition: reverse_equality_condition\n",
      "tensor([0.9978], grad_fn=<SigmoidBackward0>)\n",
      "tensor([0.9853], grad_fn=<SigmoidBackward0>)\n"
     ]
    }
   ],
   "source": [
    "def synthesize_rule(target_matrix, in_distribution_indices):\n",
    "    def equality_condition(a, b):\n",
    "        return a == b\n",
    "    def reverse_equality_condition(a, b):\n",
    "        return target_matrix.shape[0] - a == b\n",
    "    def inequality_condition(a, b):\n",
    "        return a != b\n",
    "    def greater_than_condition(a, b):\n",
    "        return a > b\n",
    "    def less_than_condition(a, b):\n",
    "        return a < b\n",
    "    # ... continue with a comprehensive DSL of conditions\n",
    "\n",
    "    possible_conditions = [\n",
    "        equality_condition,\n",
    "        reverse_equality_condition,\n",
    "        inequality_condition,\n",
    "        greater_than_condition,\n",
    "        less_than_condition,\n",
    "        # ... add more conditions as needed\n",
    "    ]\n",
    "\n",
    "    # Perform a very basic search for a condition that holds for all elements\n",
    "    # This is a placeholder for a more sophisticated search algorithm\n",
    "    for condition in possible_conditions:\n",
    "        condition_holds = True\n",
    "        for i in range(target_matrix.shape[0]):\n",
    "            for j in range(target_matrix.shape[1]):\n",
    "\n",
    "                # Skip elements not in the in-distribution indices - they will not contain\n",
    "                # any information about the rule\n",
    "                if i not in in_distribution_indices or j not in in_distribution_indices:\n",
    "                    continue\n",
    "\n",
    "                # Check if the condition holds for all elements that are in-distribution\n",
    "                if target_matrix[i][j] == 1 and not condition(i, j):\n",
    "                    condition_holds = False\n",
    "                    break\n",
    "                if target_matrix[i][j] == 0 and condition(i, j):\n",
    "                    condition_holds = False\n",
    "                    break\n",
    "        if condition_holds:\n",
    "            print(f\"Found condition: {condition.__name__}\")\n",
    "            return condition\n",
    "    return None\n",
    "\n",
    "\n",
    "# Get I'\n",
    "discretized_matrix = model.IPrime.detach().numpy()\n",
    "\n",
    "# Round the values to 0 or 1\n",
    "discretized_matrix[discretized_matrix < 0.5] = 0\n",
    "discretized_matrix[discretized_matrix >= 0.5] = 1\n",
    "\n",
    "condition_rule = synthesize_rule(model.IPrime.detach().numpy(), [3,4,5])\n",
    "with torch.no_grad():\n",
    "    for i in range(model.IPrime.shape[0]):\n",
    "        for j in range(model.IPrime.shape[1]):\n",
    "            if condition_rule(i, j):\n",
    "                model.IPrime[i][j] = 1\n",
    "            else:\n",
    "                model.IPrime[i][j] = 0\n",
    "\n",
    "\n",
    "print(model(tokenizer.to_matrix(\"abbba\")))\n",
    "print(model(tokenizer.to_matrix(\"abbbba\")))"
   ]
  },
  {
   "cell_type": "code",
   "execution_count": null,
   "metadata": {},
   "outputs": [],
   "source": []
  }
 ],
 "metadata": {
  "kernelspec": {
   "display_name": "base",
   "language": "python",
   "name": "python3"
  },
  "language_info": {
   "codemirror_mode": {
    "name": "ipython",
    "version": 3
   },
   "file_extension": ".py",
   "mimetype": "text/x-python",
   "name": "python",
   "nbconvert_exporter": "python",
   "pygments_lexer": "ipython3",
   "version": "3.11.7"
  }
 },
 "nbformat": 4,
 "nbformat_minor": 2
}
