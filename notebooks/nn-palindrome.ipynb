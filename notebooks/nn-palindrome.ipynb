{
 "cells": [
  {
   "cell_type": "code",
   "execution_count": 1,
   "metadata": {},
   "outputs": [],
   "source": [
    "import torch\n",
    "import string\n",
    "import pandas as pd\n",
    "import numpy as np\n",
    "import torch.nn as nn\n",
    "import torch.optim as optim\n",
    "import torch.nn.functional as F\n",
    "import matplotlib.pyplot as plt\n",
    "from torch.utils.data import DataLoader, Dataset\n",
    "from torch.autograd import Variable\n",
    "from torch.utils.data import DataLoader, TensorDataset\n",
    "from sklearn.model_selection import train_test_split\n",
    "device = torch.device(\"cuda\" if torch.cuda.is_available() else \"cpu\")\n",
    "RANDOM_SEED = 1"
   ]
  },
  {
   "cell_type": "markdown",
   "metadata": {},
   "source": [
    "### Create Palindrome Dataset"
   ]
  },
  {
   "cell_type": "code",
   "execution_count": 2,
   "metadata": {},
   "outputs": [],
   "source": [
    "def generate_random_string(length):\n",
    "    return ''.join(np.random.choice(list('abcdefghijklmnopqrstuvwxyz'), length))\n",
    "\n",
    "\n",
    "def generate_palindrome(length):\n",
    "    half_length = length // 2\n",
    "    half_string = generate_random_string(half_length)\n",
    "    if length % 2 == 0:\n",
    "        return half_string + half_string[::-1]\n",
    "    else:\n",
    "        return half_string + np.random.choice(list('abcdefghijklmnopqrstuvwxyz')) + half_string[::-1]\n",
    "    \n",
    "\n",
    "def generate_dataset(num_samples, string_lengths):\n",
    "    data = []\n",
    "    num_samples_per_length = num_samples // len(string_lengths)\n",
    "    for length in string_lengths:\n",
    "        for _ in range(num_samples_per_length):\n",
    "            if np.random.rand() > 0.5:\n",
    "                string = generate_random_string(length)\n",
    "                label = 1\n",
    "            else:\n",
    "                string = generate_palindrome(length)\n",
    "                label = 0\n",
    "            data.append([string, label])\n",
    "    return data\n"
   ]
  },
  {
   "cell_type": "markdown",
   "metadata": {},
   "source": [
    "### Create Manual Palindrome Model"
   ]
  },
  {
   "cell_type": "code",
   "execution_count": 3,
   "metadata": {},
   "outputs": [
    {
     "name": "stdout",
     "output_type": "stream",
     "text": [
      "Output for 'aba':  0.0\n",
      "Output for 'abb':  2.0\n",
      "Output for 'cba':  2.0\n",
      "Output for 'racecar':  0.0\n",
      "Output for 'saippuakivikauppias':  0.0\n"
     ]
    }
   ],
   "source": [
    "class CustomTokenizer:\n",
    "    def __init__(self):\n",
    "        # Define the special tokens\n",
    "        self.tokens = list(string.ascii_lowercase)\n",
    "        self.token_to_id = {token: i for i, token in enumerate(self.tokens)}\n",
    "        self.id_to_token = {i: token for token, i in enumerate(self.tokens)}\n",
    "        self.vocab = set(self.tokens)\n",
    "        self.vocab_size = len(self.vocab)\n",
    "        self.max_word_length = 200\n",
    "    \n",
    "    def to_matrix(self, word):\n",
    "        rows = len(word)\n",
    "        cols = len(self.vocab)\n",
    "        matrix = torch.zeros((rows, cols), dtype=torch.float32)\n",
    "        for i, char in enumerate(word):\n",
    "            matrix[i, self.token_to_id[char]] = 1.0\n",
    "        return matrix\n",
    "    \n",
    "class PalindromeNetwork(nn.Module):\n",
    "    def __init__(self):\n",
    "        super(PalindromeNetwork, self).__init__()\n",
    "        self.tokenizer = CustomTokenizer() \n",
    "        self.IPrime = torch.flip(torch.eye(self.tokenizer.max_word_length), [0])\n",
    "        \n",
    "\n",
    "    def forward(self, x):\n",
    "        word_len = len(x)\n",
    "        P = self.tokenizer.to_matrix(x)\n",
    "        d = torch.norm(P - self.IPrime[-1*word_len:, :word_len].matmul(P), p=\"fro\")\n",
    "        return d\n",
    "    \n",
    "net = PalindromeNetwork()\n",
    "\n",
    "print(\"Output for 'aba': \", net(\"aba\").item())\n",
    "print(\"Output for 'abb': \", net(\"abb\").item())\n",
    "print(\"Output for 'cba': \", net(\"cba\").item())\n",
    "print(\"Output for 'racecar': \", net(\"racecar\").item())\n",
    "print(\"Output for 'saippuakivikauppias': \", net(\"saippuakivikauppias\").item())\n"
   ]
  },
  {
   "cell_type": "markdown",
   "metadata": {},
   "source": [
    "### Learn Reverse Identity Matrix"
   ]
  },
  {
   "cell_type": "code",
   "execution_count": 6,
   "metadata": {},
   "outputs": [
    {
     "name": "stdout",
     "output_type": "stream",
     "text": [
      "Epoch [1/7], Loss: 0.0261\n",
      "Epoch [2/7], Loss: 0.0075\n",
      "Epoch [3/7], Loss: 0.0074\n",
      "Epoch [4/7], Loss: 0.0074\n",
      "Epoch [5/7], Loss: 0.0074\n",
      "Epoch [6/7], Loss: 0.0073\n",
      "Epoch [7/7], Loss: 0.0073\n"
     ]
    }
   ],
   "source": [
    "class CustomTokenizer:\n",
    "    def __init__(self):\n",
    "        # Define the special tokens\n",
    "        self.tokens = list(string.ascii_lowercase)\n",
    "        self.token_to_id = {token: i for i, token in enumerate(self.tokens)}\n",
    "        self.id_to_token = {i: token for token, i in enumerate(self.tokens)}\n",
    "        self.vocab = set(self.tokens)\n",
    "        self.vocab_size = len(self.vocab)\n",
    "        self.max_word_length = 7\n",
    "    \n",
    "    def to_matrix(self, word):\n",
    "        rows = len(word)\n",
    "        cols = len(self.vocab)\n",
    "        matrix = torch.zeros((rows, cols), dtype=torch.float32)\n",
    "        for i, char in enumerate(word):\n",
    "            matrix[i, self.token_to_id[char]] = 1.0\n",
    "        return matrix\n",
    "    \n",
    "class PalindromeNetwork(nn.Module):\n",
    "    def __init__(self):\n",
    "        super(PalindromeNetwork, self).__init__()\n",
    "        self.tokenizer = CustomTokenizer() \n",
    "        self.IPrime = nn.Parameter(torch.zeros(self.tokenizer.max_word_length,self.tokenizer.max_word_length))\n",
    "\n",
    "    def forward(self, P):\n",
    "        word_len = P.shape[0]\n",
    "        d = torch.norm(P - self.IPrime[-1*word_len:, :word_len].matmul(P), p=\"fro\")\n",
    "        d = nn.functional.tanh(d)\n",
    "        return d\n",
    "\n",
    "dataset = generate_dataset(10000, [3,4,5])\n",
    "tokenizer = CustomTokenizer()\n",
    "X = []\n",
    "for row in dataset:\n",
    "    X.append([tokenizer.to_matrix(row[0]), row[1]])\n",
    "\n",
    "\n",
    "# Training loop\n",
    "model = PalindromeNetwork()\n",
    "criterion = nn.MSELoss()\n",
    "optimizer = optim.SGD(model.parameters(), lr=0.01)\n",
    "num_epochs = 7\n",
    "for epoch in range(num_epochs):\n",
    "    total_loss = 0\n",
    "    for data in X:\n",
    "        inputs, label = data\n",
    "        label = torch.tensor([label], dtype=torch.float32)\n",
    "        \n",
    "        # Zero the parameter gradients\n",
    "        optimizer.zero_grad()\n",
    "        \n",
    "        # Forward pass\n",
    "        outputs = model(inputs)\n",
    "        \n",
    "        loss = criterion(outputs, label)\n",
    "        loss.backward()\n",
    "        optimizer.step()\n",
    "        \n",
    "        total_loss += loss.item()\n",
    "    \n",
    "    print(f'Epoch [{epoch+1}/{num_epochs}], Loss: {total_loss/len(X):.4f}')\n"
   ]
  },
  {
   "cell_type": "code",
   "execution_count": 7,
   "metadata": {},
   "outputs": [
    {
     "name": "stdout",
     "output_type": "stream",
     "text": [
      "[[ 0.    0.    0.    0.    0.    0.    0.  ]\n",
      " [ 0.    0.    0.    0.    0.    0.    0.  ]\n",
      " [ 0.46 -0.    0.    0.    0.54  0.    0.  ]\n",
      " [ 0.15  0.08  0.    0.92 -0.15  0.    0.  ]\n",
      " [-0.03 -0.03  1.    0.03  0.03  0.    0.  ]\n",
      " [ 0.02  1.02 -0.   -0.02 -0.02  0.    0.  ]\n",
      " [ 1.08  0.06 -0.   -0.06 -0.08  0.    0.  ]]\n"
     ]
    },
    {
     "data": {
      "text/plain": [
       "<matplotlib.image.AxesImage at 0x17fcfa490>"
      ]
     },
     "execution_count": 7,
     "metadata": {},
     "output_type": "execute_result"
    },
    {
     "data": {
      "image/png": "[encoded data removed]",
      "text/plain": [
       "<Figure size 640x480 with 1 Axes>"
      ]
     },
     "metadata": {},
     "output_type": "display_data"
    }
   ],
   "source": [
    "print(model.IPrime.detach().numpy().round(2))\n",
    "plt.imshow(model.IPrime.detach().numpy())"
   ]
  },
  {
   "cell_type": "code",
   "execution_count": 16,
   "metadata": {},
   "outputs": [
    {
     "name": "stdout",
     "output_type": "stream",
     "text": [
      "tensor(0.0002, grad_fn=<TanhBackward0>)\n",
      "tensor(0.8384, grad_fn=<TanhBackward0>)\n"
     ]
    }
   ],
   "source": [
    "print(model(tokenizer.to_matrix(\"abbba\")))\n",
    "print(model(tokenizer.to_matrix(\"abbbba\")))"
   ]
  },
  {
   "cell_type": "code",
   "execution_count": null,
   "metadata": {},
   "outputs": [],
   "source": []
  }
 ],
 "metadata": {
  "kernelspec": {
   "display_name": "base",
   "language": "python",
   "name": "python3"
  },
  "language_info": {
   "codemirror_mode": {
    "name": "ipython",
    "version": 3
   },
   "file_extension": ".py",
   "mimetype": "text/x-python",
   "name": "python",
   "nbconvert_exporter": "python",
   "pygments_lexer": "ipython3",
   "version": "3.11.7"
  }
 },
 "nbformat": 4,
 "nbformat_minor": 2
}
